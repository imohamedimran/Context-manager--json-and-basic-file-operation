{
 "cells": [
  {
   "cell_type": "code",
   "execution_count": 2,
   "metadata": {},
   "outputs": [],
   "source": [
    "import os\n",
    "import codecs"
   ]
  },
  {
   "cell_type": "code",
   "execution_count": 6,
   "metadata": {},
   "outputs": [
    {
     "data": {
      "text/plain": [
       "'C:\\\\Users\\\\my'"
      ]
     },
     "execution_count": 6,
     "metadata": {},
     "output_type": "execute_result"
    }
   ],
   "source": [
    "os.getcwd()"
   ]
  },
  {
   "cell_type": "code",
   "execution_count": 34,
   "metadata": {},
   "outputs": [
    {
     "name": "stdout",
     "output_type": "stream",
     "text": [
      "File name: test.txt\n",
      "File mode: r\n"
     ]
    }
   ],
   "source": [
    "f = codecs.open('test.txt', 'r') #, encoding = \"utf-8\"\n",
    "print(\"File name:\", f.name)\n",
    "print(\"File mode:\", f.mode)\n",
    "f.close()"
   ]
  },
  {
   "cell_type": "code",
   "execution_count": 35,
   "metadata": {},
   "outputs": [
    {
     "ename": "ValueError",
     "evalue": "I/O operation on closed file.",
     "output_type": "error",
     "traceback": [
      "\u001b[1;31m---------------------------------------------------------------------------\u001b[0m",
      "\u001b[1;31mValueError\u001b[0m                                Traceback (most recent call last)",
      "\u001b[1;32m<ipython-input-35-571e9fb02258>\u001b[0m in \u001b[0;36m<module>\u001b[1;34m()\u001b[0m\n\u001b[1;32m----> 1\u001b[1;33m \u001b[0mf\u001b[0m\u001b[1;33m.\u001b[0m\u001b[0mread\u001b[0m\u001b[1;33m(\u001b[0m\u001b[1;33m)\u001b[0m\u001b[1;33m\u001b[0m\u001b[0m\n\u001b[0m",
      "\u001b[1;31mValueError\u001b[0m: I/O operation on closed file."
     ]
    }
   ],
   "source": [
    "#After closing the file if we try and access the file, it will throw below error.\n",
    "f.read()"
   ]
  },
  {
   "cell_type": "code",
   "execution_count": 36,
   "metadata": {},
   "outputs": [
    {
     "name": "stdout",
     "output_type": "stream",
     "text": [
      "This is a test file\n",
      "one\n",
      "two\n",
      "three\n",
      "four\n",
      "five\n",
      "six\n",
      "seven\n",
      "eight\n",
      "nine\n",
      "ten\n"
     ]
    }
   ],
   "source": [
    "#No need to explicitly mention 'Close()' while working with context manager\n",
    "\n",
    "with open('test.txt', 'r') as f:\n",
    "    file_content = f.read()\n",
    "    print(file_content)"
   ]
  },
  {
   "cell_type": "code",
   "execution_count": 37,
   "metadata": {},
   "outputs": [
    {
     "name": "stdout",
     "output_type": "stream",
     "text": [
      "['This is a test file\\n', 'one\\n', 'two\\n', 'three\\n', 'four\\n', 'five\\n', 'six\\n', 'seven\\n', 'eight\\n', 'nine\\n', 'ten']\n"
     ]
    }
   ],
   "source": [
    "#For large files, instead of loading it in the memory we can just read it by below command.\n",
    "\n",
    "with open('test.txt', 'r') as f:\n",
    "    file_content = f.readlines()\n",
    "    print(file_content)"
   ]
  },
  {
   "cell_type": "code",
   "execution_count": 42,
   "metadata": {},
   "outputs": [
    {
     "name": "stdout",
     "output_type": "stream",
     "text": [
      "This is a test file\n",
      "one\n",
      "two\n",
      "three\n",
      "four\n",
      "five\n",
      "six\n",
      "seven\n",
      "eight\n",
      "nine\n",
      "ten"
     ]
    }
   ],
   "source": [
    "#To avoid memory issues, we could also iterate\n",
    "\n",
    "with open('test.txt', 'r') as f:\n",
    "    for line in f:\n",
    "        print(line, end = '') #end  = '' will avoid the empty line after each line"
   ]
  },
  {
   "cell_type": "code",
   "execution_count": 46,
   "metadata": {},
   "outputs": [
    {
     "name": "stdout",
     "output_type": "stream",
     "text": [
      "This is a test file\n",
      "one\n",
      "two\n",
      "three\n",
      "four\n",
      "five\n",
      "six\n",
      "seven\n",
      "eight\n",
      "nine\n",
      "ten"
     ]
    }
   ],
   "source": [
    "#Explicitly mention the number of characters in the file to be printed\n",
    "\n",
    "with open('test.txt', 'r') as f:\n",
    "    file_content = f.read(50) #First 50 characters\n",
    "    print(file_content, end = '')\n",
    "    \n",
    "    file_content = f.read(50) #Next 50 characters\n",
    "    print(file_content, end = '')"
   ]
  },
  {
   "cell_type": "code",
   "execution_count": 47,
   "metadata": {},
   "outputs": [
    {
     "name": "stdout",
     "output_type": "stream",
     "text": [
      "This is a *test file\n",
      "*one\n",
      "two\n",
      "th*ree\n",
      "four\n",
      "f*ive\n",
      "six\n",
      "se*ven\n",
      "eight\n",
      "*nine\n",
      "ten*"
     ]
    }
   ],
   "source": [
    "#Using a variable otherwise\n",
    "\n",
    "with open('test.txt', 'r') as f:\n",
    "    \n",
    "    size_to_read = 10\n",
    "    file_content = f.read(size_to_read)\n",
    "    \n",
    "    while len(file_content)>0:\n",
    "        print(file_content, end = '*') #To help understand how many characters it read in every loop\n",
    "        file_content = f.read(size_to_read) "
   ]
  },
  {
   "cell_type": "code",
   "execution_count": 49,
   "metadata": {},
   "outputs": [
    {
     "name": "stdout",
     "output_type": "stream",
     "text": [
      "This is a \n",
      "This is a \n"
     ]
    }
   ],
   "source": [
    "#Setting the position back to beginning or whichever character position we want\n",
    "with open('test.txt', 'r') as f:\n",
    "    \n",
    "    size_to_read = 10\n",
    "    file_content = f.read(size_to_read)\n",
    "    print(file_content)\n",
    "    \n",
    "    f.seek(0)\n",
    "    \n",
    "    size_to_read = 10\n",
    "    file_content = f.read(size_to_read)\n",
    "    print(file_content)"
   ]
  },
  {
   "cell_type": "code",
   "execution_count": 50,
   "metadata": {},
   "outputs": [
    {
     "ename": "UnsupportedOperation",
     "evalue": "not writable",
     "output_type": "error",
     "traceback": [
      "\u001b[1;31m---------------------------------------------------------------------------\u001b[0m",
      "\u001b[1;31mUnsupportedOperation\u001b[0m                      Traceback (most recent call last)",
      "\u001b[1;32m<ipython-input-50-5ed5b828f3d7>\u001b[0m in \u001b[0;36m<module>\u001b[1;34m()\u001b[0m\n\u001b[0;32m      2\u001b[0m \u001b[1;33m\u001b[0m\u001b[0m\n\u001b[0;32m      3\u001b[0m \u001b[1;32mwith\u001b[0m \u001b[0mopen\u001b[0m\u001b[1;33m(\u001b[0m\u001b[1;34m'test.txt'\u001b[0m\u001b[1;33m,\u001b[0m \u001b[1;34m'r'\u001b[0m\u001b[1;33m)\u001b[0m \u001b[1;32mas\u001b[0m \u001b[0mf\u001b[0m\u001b[1;33m:\u001b[0m\u001b[1;33m\u001b[0m\u001b[0m\n\u001b[1;32m----> 4\u001b[1;33m     \u001b[0mf\u001b[0m\u001b[1;33m.\u001b[0m\u001b[0mwrite\u001b[0m\u001b[1;33m(\u001b[0m\u001b[1;34m'New line'\u001b[0m\u001b[1;33m)\u001b[0m\u001b[1;33m\u001b[0m\u001b[0m\n\u001b[0m",
      "\u001b[1;31mUnsupportedOperation\u001b[0m: not writable"
     ]
    }
   ],
   "source": [
    "#Trying to write a file which is opened in read mode will throw below error\n",
    "\n",
    "with open('test.txt', 'r') as f:\n",
    "    f.write('New line')"
   ]
  },
  {
   "cell_type": "code",
   "execution_count": 51,
   "metadata": {},
   "outputs": [],
   "source": [
    "#Just creating an empty file with name 'test2.txt' (Not writing anything to it)\n",
    "\n",
    "with open('test2.txt', 'w') as f:\n",
    "    pass"
   ]
  },
  {
   "cell_type": "code",
   "execution_count": 53,
   "metadata": {},
   "outputs": [],
   "source": [
    "#Now writing the file...\n",
    "#If a file already exists with the same name, it will overwrite it.\n",
    "#If we want to append the same file, we can use 'a' instead of 'w'\n",
    "\n",
    "with open('test2.txt', 'w') as f:\n",
    "    f.write('Line1')"
   ]
  },
  {
   "cell_type": "code",
   "execution_count": 54,
   "metadata": {},
   "outputs": [],
   "source": [
    "#Read and write files\n",
    "\n",
    "with open('test.txt', 'r') as rf:\n",
    "    with open('test2.txt', 'w') as wf:\n",
    "        for line in rf:\n",
    "            wf.write(line)"
   ]
  },
  {
   "cell_type": "code",
   "execution_count": null,
   "metadata": {},
   "outputs": [],
   "source": [
    "#In order to work with images, we need to open the files in binary mode.\n",
    "\n",
    "with open('picture_file.jpg', 'rb') as rf:\n",
    "    with open('picture_file2.jpg', 'wb') as wf:\n",
    "        for line in rf:\n",
    "            wf.write(line)"
   ]
  },
  {
   "cell_type": "code",
   "execution_count": 56,
   "metadata": {},
   "outputs": [],
   "source": [
    "import json"
   ]
  },
  {
   "cell_type": "code",
   "execution_count": 58,
   "metadata": {},
   "outputs": [],
   "source": [
    "people_string = '''\n",
    "{\n",
    "   \"colors\": [\n",
    "    {\n",
    "      \"color\": \"black\",\n",
    "      \"category\": \"hue\",\n",
    "      \"type\": \"primary\",\n",
    "      \"code\": \"001\",\n",
    "      \"bright\":false\n",
    "    },\n",
    "    {\n",
    "      \"color\": \"white\",\n",
    "      \"category\": \"value\",\n",
    "      \"type\": \"secondary\",\n",
    "      \"code\": null,\n",
    "      \"bright\": true\n",
    "    }\n",
    " ]\n",
    "}\n",
    "'''"
   ]
  },
  {
   "cell_type": "code",
   "execution_count": 83,
   "metadata": {},
   "outputs": [
    {
     "name": "stdout",
     "output_type": "stream",
     "text": [
      "{'colors': [{'color': 'black', 'category': 'hue', 'type': 'primary', 'code': '001', 'bright': False}, {'color': 'white', 'category': 'value', 'type': 'secondary', 'code': None, 'bright': True}]} \n",
      "\n",
      "<class 'dict'>\n"
     ]
    }
   ],
   "source": [
    "#Basic conversions from json to Python happen like true -> True, false -> False, null -> None, etc.\n",
    "#Json object is converted into Python dictionary and json Array into a Python List and so on...\n",
    "\n",
    "data = json.loads(people_string) #load's' is for loading string\n",
    "print(data, \"\\n\")\n",
    "print(type(data))"
   ]
  },
  {
   "cell_type": "code",
   "execution_count": 68,
   "metadata": {},
   "outputs": [
    {
     "name": "stdout",
     "output_type": "stream",
     "text": [
      "<class 'list'>\n"
     ]
    }
   ],
   "source": [
    "print(type(data['colors']))"
   ]
  },
  {
   "cell_type": "code",
   "execution_count": 69,
   "metadata": {},
   "outputs": [
    {
     "name": "stdout",
     "output_type": "stream",
     "text": [
      "{'color': 'black', 'category': 'hue', 'type': 'primary', 'code': '001', 'bright': False}\n",
      "{'color': 'white', 'category': 'value', 'type': 'secondary', 'code': None, 'bright': True}\n"
     ]
    }
   ],
   "source": [
    "for color in data['colors']:\n",
    "    print(color)"
   ]
  },
  {
   "cell_type": "code",
   "execution_count": 72,
   "metadata": {},
   "outputs": [
    {
     "name": "stdout",
     "output_type": "stream",
     "text": [
      "hue\n",
      "value\n"
     ]
    }
   ],
   "source": [
    "#Accessing category of color\n",
    "\n",
    "for color in data['colors']:\n",
    "    print(color['category'])"
   ]
  },
  {
   "cell_type": "code",
   "execution_count": 84,
   "metadata": {},
   "outputs": [
    {
     "name": "stdout",
     "output_type": "stream",
     "text": [
      "{'colors': [{'color': 'black', 'category': 'hue', 'type': 'primary', 'bright': False}, {'color': 'white', 'category': 'value', 'type': 'secondary', 'bright': True}]}\n"
     ]
    }
   ],
   "source": [
    "#To remove an object from dict\n",
    "\n",
    "for color in data['colors']:\n",
    "    del color['code']\n",
    "\n",
    "print(data)"
   ]
  },
  {
   "cell_type": "code",
   "execution_count": 85,
   "metadata": {},
   "outputs": [
    {
     "name": "stdout",
     "output_type": "stream",
     "text": [
      "{\"colors\": [{\"color\": \"black\", \"category\": \"hue\", \"type\": \"primary\", \"bright\": false}, {\"color\": \"white\", \"category\": \"value\", \"type\": \"secondary\", \"bright\": true}]}\n"
     ]
    }
   ],
   "source": [
    "#Dumping Python objects into json string\n",
    "\n",
    "new_string = json.dumps(data)\n",
    "print(new_string)"
   ]
  },
  {
   "cell_type": "code",
   "execution_count": 89,
   "metadata": {},
   "outputs": [
    {
     "name": "stdout",
     "output_type": "stream",
     "text": [
      "{\n",
      "  \"colors\": [\n",
      "    {\n",
      "      \"color\": \"black\",\n",
      "      \"category\": \"hue\",\n",
      "      \"type\": \"primary\",\n",
      "      \"bright\": false\n",
      "    },\n",
      "    {\n",
      "      \"color\": \"white\",\n",
      "      \"category\": \"value\",\n",
      "      \"type\": \"secondary\",\n",
      "      \"bright\": true\n",
      "    }\n",
      "  ]\n",
      "}\n"
     ]
    }
   ],
   "source": [
    "new_string = json.dumps(data, indent = 2) #indent helps in readability. indent=2 is something like 2 spaces before the start \n",
    "print(new_string)"
   ]
  },
  {
   "cell_type": "code",
   "execution_count": 90,
   "metadata": {},
   "outputs": [
    {
     "name": "stdout",
     "output_type": "stream",
     "text": [
      "{\n",
      "  \"colors\": [\n",
      "    {\n",
      "      \"bright\": false,\n",
      "      \"category\": \"hue\",\n",
      "      \"color\": \"black\",\n",
      "      \"type\": \"primary\"\n",
      "    },\n",
      "    {\n",
      "      \"bright\": true,\n",
      "      \"category\": \"value\",\n",
      "      \"color\": \"white\",\n",
      "      \"type\": \"secondary\"\n",
      "    }\n",
      "  ]\n",
      "}\n"
     ]
    }
   ],
   "source": [
    "new_string = json.dumps(data, indent = 2, sort_keys=True) #sorting\n",
    "print(new_string)"
   ]
  },
  {
   "cell_type": "code",
   "execution_count": 96,
   "metadata": {},
   "outputs": [],
   "source": [
    "#Loading 'states' json file\n",
    "\n",
    "with open('states.json') as f:\n",
    "    data = json.load(f)"
   ]
  },
  {
   "cell_type": "code",
   "execution_count": 97,
   "metadata": {
    "scrolled": true
   },
   "outputs": [
    {
     "name": "stdout",
     "output_type": "stream",
     "text": [
      "Alabama ['205', '251', '256', '334', '938']\n",
      "Alaska ['907']\n",
      "Arizona ['480', '520', '602', '623', '928']\n",
      "Arkansas ['479', '501', '870']\n",
      "California ['209', '213', '310', '323', '408', '415', '424', '442', '510', '530', '559', '562', '619', '626', '628', '650', '657', '661', '669', '707', '714', '747', '760', '805', '818', '831', '858', '909', '916', '925', '949', '951']\n",
      "Colorado ['303', '719', '720', '970']\n",
      "Connecticut ['203', '475', '860', '959']\n",
      "Delaware ['302']\n",
      "Florida ['239', '305', '321', '352', '386', '407', '561', '727', '754', '772', '786', '813', '850', '863', '904', '941', '954']\n",
      "Georgia ['229', '404', '470', '478', '678', '706', '762', '770', '912']\n",
      "Hawaii ['808']\n",
      "Idaho ['208']\n",
      "Illinois ['217', '224', '309', '312', '331', '618', '630', '708', '773', '779', '815', '847', '872']\n",
      "Indiana ['219', '260', '317', '463', '574', '765', '812', '930']\n",
      "Iowa ['319', '515', '563', '641', '712']\n",
      "Kansas ['316', '620', '785', '913']\n",
      "Kentucky ['270', '364', '502', '606', '859']\n",
      "Louisiana ['225', '318', '337', '504', '985']\n",
      "Maine ['207']\n",
      "Maryland ['240', '301', '410', '443', '667']\n",
      "Massachusetts ['339', '351', '413', '508', '617', '774', '781', '857', '978']\n",
      "Michigan ['231', '248', '269', '313', '517', '586', '616', '734', '810', '906', '947', '989']\n",
      "Minnesota ['218', '320', '507', '612', '651', '763', '952']\n",
      "Mississippi ['228', '601', '662', '769']\n",
      "Missouri ['314', '417', '573', '636', '660', '816']\n",
      "Montana ['406']\n",
      "Nebraska ['308', '402', '531']\n",
      "Nevada ['702', '725', '775']\n",
      "New Hampshire ['603']\n",
      "New Jersey ['201', '551', '609', '732', '848', '856', '862', '908', '973']\n",
      "New Mexico ['505', '575']\n",
      "New York ['212', '315', '332', '347', '516', '518', '585', '607', '631', '646', '680', '716', '718', '845', '914', '917', '929', '934']\n",
      "North Carolina ['252', '336', '704', '743', '828', '910', '919', '980', '984']\n",
      "North Dakota ['701']\n",
      "Ohio ['216', '220', '234', '330', '380', '419', '440', '513', '567', '614', '740', '937']\n",
      "Oklahoma ['405', '539', '580', '918']\n",
      "Oregon ['458', '503', '541', '971']\n",
      "Pennsylvania ['215', '267', '272', '412', '484', '570', '610', '717', '724', '814', '878']\n",
      "Rhode Island ['401']\n",
      "South Carolina ['803', '843', '854', '864']\n",
      "South Dakota ['605']\n",
      "Tennessee ['423', '615', '629', '731', '865', '901', '931']\n",
      "Texas ['210', '214', '254', '281', '325', '346', '361', '409', '430', '432', '469', '512', '682', '713', '737', '806', '817', '830', '832', '903', '915', '936', '940', '956', '972', '979']\n",
      "Utah ['385', '435', '801']\n",
      "Vermont ['802']\n",
      "Virginia ['276', '434', '540', '571', '703', '757', '804']\n",
      "Washington ['206', '253', '360', '425', '509']\n",
      "West Virginia ['304', '681']\n",
      "Wisconsin ['262', '414', '534', '608', '715', '920']\n",
      "Wyoming ['307']\n"
     ]
    }
   ],
   "source": [
    "for state in data['states']:\n",
    "    print(state['name'], state['area_codes'])"
   ]
  },
  {
   "cell_type": "code",
   "execution_count": 98,
   "metadata": {},
   "outputs": [],
   "source": [
    "#deleting area_codes and dumping into json file (creating a json file with the name 'json_states.json')\n",
    "\n",
    "for state in data['states']:\n",
    "    del state['area_codes']\n",
    "    \n",
    "with open('json_states.json', 'w') as f:\n",
    "    json.dump(data, f, indent = 2)"
   ]
  },
  {
   "cell_type": "code",
   "execution_count": 127,
   "metadata": {},
   "outputs": [],
   "source": [
    "#Working with yahoo data\n",
    "\n",
    "import json\n",
    "from urllib.request import urlopen\n",
    "\n",
    "with urlopen(\"https://finance.yahoo.com/webservice/v1/symbols/allcurrencies/quote?format=json\") as response:\n",
    "    source = response.read()\n",
    "    \n",
    "data = json.loads(source)"
   ]
  },
  {
   "cell_type": "code",
   "execution_count": 139,
   "metadata": {},
   "outputs": [],
   "source": [
    "#Dump this into json file if needed\n",
    "#print(json.dumps(data, indent = 2))"
   ]
  },
  {
   "cell_type": "code",
   "execution_count": 101,
   "metadata": {},
   "outputs": [
    {
     "name": "stdout",
     "output_type": "stream",
     "text": [
      "188\n"
     ]
    }
   ],
   "source": [
    "print(len(data['list']['resources']))"
   ]
  },
  {
   "cell_type": "code",
   "execution_count": 131,
   "metadata": {},
   "outputs": [],
   "source": [
    "#To write the json file in our directory\n",
    "\n",
    "with open('yahoo.json', 'w') as f:\n",
    "    json.dump(data, f, indent=2)"
   ]
  },
  {
   "cell_type": "code",
   "execution_count": 140,
   "metadata": {},
   "outputs": [],
   "source": [
    "#Accessing the symbol and type of 'resources' from the 'list'\n",
    "\n",
    "for item in data['list']['resources']:\n",
    "    name = item.get('resource').get('fields').get('name')\n",
    "    price = item.get('resource').get('fields').get('price')\n",
    "    #print(name, price)"
   ]
  },
  {
   "cell_type": "code",
   "execution_count": 138,
   "metadata": {},
   "outputs": [
    {
     "name": "stdout",
     "output_type": "stream",
     "text": [
      "36.727\n"
     ]
    }
   ],
   "source": [
    "#Converting $10 to Dirhams\n",
    "\n",
    "usd_rate = dict()\n",
    "\n",
    "for item in data['list']['resources']:\n",
    "    name = item.get('resource').get('fields').get('name')\n",
    "    price = item.get('resource').get('fields').get('price')\n",
    "    usd_rate[name] = price\n",
    "    \n",
    "print(10 * float(usd_rate['USD/AED']))"
   ]
  },
  {
   "cell_type": "code",
   "execution_count": 141,
   "metadata": {},
   "outputs": [
    {
     "name": "stdout",
     "output_type": "stream",
     "text": [
      "True\n"
     ]
    }
   ],
   "source": [
    "#Working with context manager using a class\n",
    "\n",
    "class Open_File():\n",
    "\n",
    "    def __init__(self, filename, mode): #The filelname and mode needs to be entered\n",
    "        self.filename = filename #Assigning the filename\n",
    "        self.mode = mode #Assigning the mode\n",
    "\n",
    "    def __enter__(self):\n",
    "        self.file = open(self.filename, self.mode) #The above created filename and mode needs to be set here to open the file\n",
    "        return self.file #returning to the variable 'f'\n",
    "\n",
    "    def __exit__(self, exc_type, exc_val, traceback): #All other parameters except 'self' is for handling exceptions\n",
    "        self.file.close() #Close the file\n",
    "        \n",
    "with Open_File('sample_class.txt', 'w') as f:\n",
    "    f.write('Writing my file using a class')\n",
    "    \n",
    "#To check if the file is close\n",
    "print(f.closed)\n",
    "\n",
    "#A file with name 'sample.txt' will be created in my directory"
   ]
  },
  {
   "cell_type": "code",
   "execution_count": 144,
   "metadata": {},
   "outputs": [
    {
     "name": "stdout",
     "output_type": "stream",
     "text": [
      "True\n"
     ]
    }
   ],
   "source": [
    "#Woring with context manager using method\n",
    "#To do this, we need contexlib module\n",
    "\n",
    "from contextlib import contextmanager #This context manager decorator to decorate a generator function\n",
    "\n",
    "@contextmanager      #Context manager decorator\n",
    "def open_file(filename, mode):\n",
    "    f = open(filename, mode)\n",
    "    yield f #yield keyword will work same as until '__enter__' of class. Yield will return the function\n",
    "    f.close()\n",
    "    \n",
    "with open_file('sample_context.txt', 'w') as f:\n",
    "    f.write('Writing my file using a context manager')\n",
    "    \n",
    "print(f.closed) #To check if my file is closed.\n"
   ]
  },
  {
   "cell_type": "code",
   "execution_count": 162,
   "metadata": {},
   "outputs": [],
   "source": [
    "import os"
   ]
  },
  {
   "cell_type": "code",
   "execution_count": 167,
   "metadata": {},
   "outputs": [
    {
     "name": "stdout",
     "output_type": "stream",
     "text": [
      "['Dir1_file1.txt', 'Dir1_file2.txt', 'Dir1_file3.txt']\n",
      "['Dir2_file1.txt', 'Dir2_file2.txt', 'Dir2_file3.txt']\n"
     ]
    }
   ],
   "source": [
    "#The below code simply changes the directory and prints the files present in it\n",
    "\n",
    "cwd = os.getcwd()\n",
    "os.chdir('Dir_one')\n",
    "print(os.listdir())\n",
    "os.chdir(cwd)\n",
    "\n",
    "cwd = os.getcwd()\n",
    "os.chdir('Dir_two')\n",
    "print(os.listdir())\n",
    "os.chdir(cwd)"
   ]
  },
  {
   "cell_type": "code",
   "execution_count": 169,
   "metadata": {},
   "outputs": [
    {
     "name": "stdout",
     "output_type": "stream",
     "text": [
      "['Dir1_file1.txt', 'Dir1_file2.txt', 'Dir1_file3.txt']\n",
      "['Dir2_file1.txt', 'Dir2_file2.txt', 'Dir2_file3.txt']\n"
     ]
    }
   ],
   "source": [
    "#In order to do above file operations efficiently, we can use context managers.\n",
    "#The below code of context manager might be using in opening and closing db connections, acquiring and releasing locks, etc...\n",
    "\n",
    "@contextmanager\n",
    "def change_dir(destination):\n",
    "    try:\n",
    "        cwd = os.getcwd()\n",
    "        os.chdir(destination)\n",
    "        yield #Since we're not using any variable to return, we dont have to mention anything like 'yield f'\n",
    "    \n",
    "    finally:\n",
    "        os.chdir(cwd)\n",
    "        \n",
    "with change_dir('Dir_one'): #We don't have to mention a variable (like 'as f') since we're not working with files\n",
    "    print(os.listdir())\n",
    "        \n",
    "with change_dir('Dir_two'):\n",
    "    print(os.listdir())"
   ]
  }
 ],
 "metadata": {
  "kernelspec": {
   "display_name": "Python 3",
   "language": "python",
   "name": "python3"
  },
  "language_info": {
   "codemirror_mode": {
    "name": "ipython",
    "version": 3
   },
   "file_extension": ".py",
   "mimetype": "text/x-python",
   "name": "python",
   "nbconvert_exporter": "python",
   "pygments_lexer": "ipython3",
   "version": "3.6.4"
  }
 },
 "nbformat": 4,
 "nbformat_minor": 2
}
